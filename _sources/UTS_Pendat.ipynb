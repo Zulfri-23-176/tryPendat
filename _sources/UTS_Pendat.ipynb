{
  "cells": [
    {
      "cell_type": "markdown",
      "metadata": {
        "id": "f3ic3LjsXZIy"
      },
      "source": [
        "# Ujian Tengah Semester"
      ]
    },
    {
      "cell_type": "markdown",
      "metadata": {
        "id": "X3xPCvnKXjzd"
      },
      "source": [
        "## Data Understanding"
      ]
    },
    {
      "cell_type": "markdown",
      "metadata": {
        "id": "jjy4sNXcbLw6"
      },
      "source": [
        "Dataset ini berisi informasi tentang pasien dengan sirosis hati (cirrhosis) yang berpartisipasi dalam uji klinis untuk membandingkan efek D-penicillamine versus plasebo."
      ]
    },
    {
      "cell_type": "code",
      "execution_count": 32,
      "metadata": {
        "id": "Q2iYBPrejSeY"
      },
      "outputs": [],
      "source": [
        "import pandas as pd\n",
        "import numpy as np\n",
        "import matplotlib.pyplot as plt\n",
        "import seaborn as sns\n",
        "from sklearn.model_selection import train_test_split\n",
        "from sklearn.preprocessing import StandardScaler, LabelEncoder\n",
        "from sklearn.impute import SimpleImputer\n",
        "from sklearn.neighbors import KNeighborsClassifier\n",
        "from sklearn.metrics import (\n",
        "    classification_report,\n",
        "    confusion_matrix,\n",
        "    accuracy_score\n",
        "    )\n",
        "from sklearn.model_selection import cross_val_score\n",
        "from sklearn.model_selection import GridSearchCV\n",
        "from sklearn.preprocessing import LabelEncoder"
      ]
    },
    {
      "cell_type": "markdown",
      "metadata": {
        "id": "P67NcMkXX2Me"
      },
      "source": [
        "Membaca Data :"
      ]
    },
    {
      "cell_type": "code",
      "execution_count": 33,
      "metadata": {
        "id": "93SLIk3NU5uX"
      },
      "outputs": [],
      "source": [
        "data = pd.read_csv('cirrhosis.csv')"
      ]
    },
    {
      "cell_type": "markdown",
      "metadata": {
        "id": "gIxgKmRZYZl7"
      },
      "source": [
        "Preview Data :"
      ]
    },
    {
      "cell_type": "code",
      "execution_count": 34,
      "metadata": {
        "colab": {
          "base_uri": "https://localhost:8080/",
          "height": 295
        },
        "id": "oLC4qnoXYbkh",
        "outputId": "2eb26461-f9e2-4b0f-d2e1-46c24bf2dde4"
      },
      "outputs": [
        {
          "data": {
            "text/html": [
              "<div>\n",
              "<style scoped>\n",
              "    .dataframe tbody tr th:only-of-type {\n",
              "        vertical-align: middle;\n",
              "    }\n",
              "\n",
              "    .dataframe tbody tr th {\n",
              "        vertical-align: top;\n",
              "    }\n",
              "\n",
              "    .dataframe thead th {\n",
              "        text-align: right;\n",
              "    }\n",
              "</style>\n",
              "<table border=\"1\" class=\"dataframe\">\n",
              "  <thead>\n",
              "    <tr style=\"text-align: right;\">\n",
              "      <th></th>\n",
              "      <th>ID</th>\n",
              "      <th>N_Days</th>\n",
              "      <th>Status</th>\n",
              "      <th>Drug</th>\n",
              "      <th>Age</th>\n",
              "      <th>Sex</th>\n",
              "      <th>Ascites</th>\n",
              "      <th>Hepatomegaly</th>\n",
              "      <th>Spiders</th>\n",
              "      <th>Edema</th>\n",
              "      <th>Bilirubin</th>\n",
              "      <th>Cholesterol</th>\n",
              "      <th>Albumin</th>\n",
              "      <th>Copper</th>\n",
              "      <th>Alk_Phos</th>\n",
              "      <th>SGOT</th>\n",
              "      <th>Tryglicerides</th>\n",
              "      <th>Platelets</th>\n",
              "      <th>Prothrombin</th>\n",
              "      <th>Stage</th>\n",
              "    </tr>\n",
              "  </thead>\n",
              "  <tbody>\n",
              "    <tr>\n",
              "      <th>0</th>\n",
              "      <td>1</td>\n",
              "      <td>400</td>\n",
              "      <td>D</td>\n",
              "      <td>D-penicillamine</td>\n",
              "      <td>21464</td>\n",
              "      <td>F</td>\n",
              "      <td>Y</td>\n",
              "      <td>Y</td>\n",
              "      <td>Y</td>\n",
              "      <td>Y</td>\n",
              "      <td>14.5</td>\n",
              "      <td>261.0</td>\n",
              "      <td>2.60</td>\n",
              "      <td>156.0</td>\n",
              "      <td>1718.0</td>\n",
              "      <td>137.95</td>\n",
              "      <td>172.0</td>\n",
              "      <td>190.0</td>\n",
              "      <td>12.2</td>\n",
              "      <td>4.0</td>\n",
              "    </tr>\n",
              "    <tr>\n",
              "      <th>1</th>\n",
              "      <td>2</td>\n",
              "      <td>4500</td>\n",
              "      <td>C</td>\n",
              "      <td>D-penicillamine</td>\n",
              "      <td>20617</td>\n",
              "      <td>F</td>\n",
              "      <td>N</td>\n",
              "      <td>Y</td>\n",
              "      <td>Y</td>\n",
              "      <td>N</td>\n",
              "      <td>1.1</td>\n",
              "      <td>302.0</td>\n",
              "      <td>4.14</td>\n",
              "      <td>54.0</td>\n",
              "      <td>7394.8</td>\n",
              "      <td>113.52</td>\n",
              "      <td>88.0</td>\n",
              "      <td>221.0</td>\n",
              "      <td>10.6</td>\n",
              "      <td>3.0</td>\n",
              "    </tr>\n",
              "    <tr>\n",
              "      <th>2</th>\n",
              "      <td>3</td>\n",
              "      <td>1012</td>\n",
              "      <td>D</td>\n",
              "      <td>D-penicillamine</td>\n",
              "      <td>25594</td>\n",
              "      <td>M</td>\n",
              "      <td>N</td>\n",
              "      <td>N</td>\n",
              "      <td>N</td>\n",
              "      <td>S</td>\n",
              "      <td>1.4</td>\n",
              "      <td>176.0</td>\n",
              "      <td>3.48</td>\n",
              "      <td>210.0</td>\n",
              "      <td>516.0</td>\n",
              "      <td>96.10</td>\n",
              "      <td>55.0</td>\n",
              "      <td>151.0</td>\n",
              "      <td>12.0</td>\n",
              "      <td>4.0</td>\n",
              "    </tr>\n",
              "    <tr>\n",
              "      <th>3</th>\n",
              "      <td>4</td>\n",
              "      <td>1925</td>\n",
              "      <td>D</td>\n",
              "      <td>D-penicillamine</td>\n",
              "      <td>19994</td>\n",
              "      <td>F</td>\n",
              "      <td>N</td>\n",
              "      <td>Y</td>\n",
              "      <td>Y</td>\n",
              "      <td>S</td>\n",
              "      <td>1.8</td>\n",
              "      <td>244.0</td>\n",
              "      <td>2.54</td>\n",
              "      <td>64.0</td>\n",
              "      <td>6121.8</td>\n",
              "      <td>60.63</td>\n",
              "      <td>92.0</td>\n",
              "      <td>183.0</td>\n",
              "      <td>10.3</td>\n",
              "      <td>4.0</td>\n",
              "    </tr>\n",
              "    <tr>\n",
              "      <th>4</th>\n",
              "      <td>5</td>\n",
              "      <td>1504</td>\n",
              "      <td>CL</td>\n",
              "      <td>Placebo</td>\n",
              "      <td>13918</td>\n",
              "      <td>F</td>\n",
              "      <td>N</td>\n",
              "      <td>Y</td>\n",
              "      <td>Y</td>\n",
              "      <td>N</td>\n",
              "      <td>3.4</td>\n",
              "      <td>279.0</td>\n",
              "      <td>3.53</td>\n",
              "      <td>143.0</td>\n",
              "      <td>671.0</td>\n",
              "      <td>113.15</td>\n",
              "      <td>72.0</td>\n",
              "      <td>136.0</td>\n",
              "      <td>10.9</td>\n",
              "      <td>3.0</td>\n",
              "    </tr>\n",
              "  </tbody>\n",
              "</table>\n",
              "</div>"
            ],
            "text/plain": [
              "   ID  N_Days Status             Drug    Age Sex Ascites Hepatomegaly Spiders  \\\n",
              "0   1     400      D  D-penicillamine  21464   F       Y            Y       Y   \n",
              "1   2    4500      C  D-penicillamine  20617   F       N            Y       Y   \n",
              "2   3    1012      D  D-penicillamine  25594   M       N            N       N   \n",
              "3   4    1925      D  D-penicillamine  19994   F       N            Y       Y   \n",
              "4   5    1504     CL          Placebo  13918   F       N            Y       Y   \n",
              "\n",
              "  Edema  Bilirubin  Cholesterol  Albumin  Copper  Alk_Phos    SGOT  \\\n",
              "0     Y       14.5        261.0     2.60   156.0    1718.0  137.95   \n",
              "1     N        1.1        302.0     4.14    54.0    7394.8  113.52   \n",
              "2     S        1.4        176.0     3.48   210.0     516.0   96.10   \n",
              "3     S        1.8        244.0     2.54    64.0    6121.8   60.63   \n",
              "4     N        3.4        279.0     3.53   143.0     671.0  113.15   \n",
              "\n",
              "   Tryglicerides  Platelets  Prothrombin  Stage  \n",
              "0          172.0      190.0         12.2    4.0  \n",
              "1           88.0      221.0         10.6    3.0  \n",
              "2           55.0      151.0         12.0    4.0  \n",
              "3           92.0      183.0         10.3    4.0  \n",
              "4           72.0      136.0         10.9    3.0  "
            ]
          },
          "execution_count": 34,
          "metadata": {},
          "output_type": "execute_result"
        }
      ],
      "source": [
        "data.head()"
      ]
    },
    {
      "cell_type": "markdown",
      "metadata": {
        "id": "PyCMRGRCbR2J"
      },
      "source": [
        "### Variabel dalam Dataset\n",
        "\n",
        "- **ID**: Nomor identifikasi pasien  \n",
        "- **N_Days**: Jumlah hari antara pendaftaran dan waktu kematian, penerimaan transplantasi hati, atau akhir penelitian  \n",
        "- **Status**: Status pasien  \n",
        "    - **C**: Censored  \n",
        "    - **D**: Death  \n",
        "    - **CL**: Censored karena transplantasi hati  \n",
        "- **Drug**: Jenis obat yang diberikan  \n",
        "    - **D-penicillamine** atau **Placebo**  \n",
        "- **Age**: Usia dalam hari  \n",
        "- **Sex**: Jenis kelamin  \n",
        "    - **M**: Male  \n",
        "    - **F**: Female  \n",
        "- **Ascites**: Ada tidaknya asites  \n",
        "    - **Y**: Ya  \n",
        "    - **N**: Tidak  \n",
        "- **Hepatomegaly**: Ada tidaknya hepatomegali  \n",
        "    - **Y**: Ya  \n",
        "    - **N**: Tidak  \n",
        "- **Spiders**: Ada tidaknya spider nevi  \n",
        "    - **Y**: Ya  \n",
        "    - **N**: Tidak  \n",
        "- **Edema**: Ada tidaknya edema  \n",
        "    - **N**: Tidak ada  \n",
        "    - **S**: Edema tanpa diuretik  \n",
        "    - **Y**: Edema meski dengan diuretik  \n",
        "- **Bilirubin**: Kadar bilirubin serum (mg/dl)  \n",
        "- **Cholesterol**: Kadar kolesterol serum (mg/dl)  \n",
        "- **Albumin**: Kadar albumin serum (mg/dl)  \n",
        "- **Copper**: Kadar tembaga urine (μg/day)  \n",
        "- **Alk_Phos**: Alkaline phosphatase (U/liter)  \n",
        "- **SGOT**: Serum glutamic oxaloacetic transaminase (U/ml)  \n",
        "- **Tryglicerides**: Kadar trigliserida (mg/dl)  \n",
        "- **Platelets**: Jumlah platelet per kubik ml/1000  \n",
        "- **Prothrombin**: Waktu protrombin dalam detik  \n",
        "- **Stage**: Stadium histologis penyakit  \n",
        "    - **1, 2, 3, atau 4**\n"
      ]
    },
    {
      "cell_type": "markdown",
      "metadata": {
        "id": "lFb0zfD3ZmM4"
      },
      "source": [
        "Statistik Deskriptif :"
      ]
    },
    {
      "cell_type": "code",
      "execution_count": 35,
      "metadata": {
        "colab": {
          "base_uri": "https://localhost:8080/",
          "height": 320
        },
        "id": "ysZPJzhMY8MI",
        "outputId": "ac24c335-3e1b-4950-a3c0-7a70814ecb73"
      },
      "outputs": [
        {
          "data": {
            "text/html": [
              "<div>\n",
              "<style scoped>\n",
              "    .dataframe tbody tr th:only-of-type {\n",
              "        vertical-align: middle;\n",
              "    }\n",
              "\n",
              "    .dataframe tbody tr th {\n",
              "        vertical-align: top;\n",
              "    }\n",
              "\n",
              "    .dataframe thead th {\n",
              "        text-align: right;\n",
              "    }\n",
              "</style>\n",
              "<table border=\"1\" class=\"dataframe\">\n",
              "  <thead>\n",
              "    <tr style=\"text-align: right;\">\n",
              "      <th></th>\n",
              "      <th>N_Days</th>\n",
              "      <th>Age</th>\n",
              "      <th>Bilirubin</th>\n",
              "      <th>Cholesterol</th>\n",
              "      <th>Albumin</th>\n",
              "      <th>Copper</th>\n",
              "      <th>Alk_Phos</th>\n",
              "      <th>SGOT</th>\n",
              "      <th>Tryglicerides</th>\n",
              "      <th>Platelets</th>\n",
              "      <th>Prothrombin</th>\n",
              "      <th>Stage</th>\n",
              "    </tr>\n",
              "  </thead>\n",
              "  <tbody>\n",
              "    <tr>\n",
              "      <th>count</th>\n",
              "      <td>418.000000</td>\n",
              "      <td>418.000000</td>\n",
              "      <td>418.000000</td>\n",
              "      <td>284.000000</td>\n",
              "      <td>418.000000</td>\n",
              "      <td>310.000000</td>\n",
              "      <td>312.000000</td>\n",
              "      <td>312.000000</td>\n",
              "      <td>282.000000</td>\n",
              "      <td>407.000000</td>\n",
              "      <td>416.000000</td>\n",
              "      <td>412.000000</td>\n",
              "    </tr>\n",
              "    <tr>\n",
              "      <th>mean</th>\n",
              "      <td>1917.782297</td>\n",
              "      <td>18533.351675</td>\n",
              "      <td>3.220813</td>\n",
              "      <td>369.510563</td>\n",
              "      <td>3.497440</td>\n",
              "      <td>97.648387</td>\n",
              "      <td>1982.655769</td>\n",
              "      <td>122.556346</td>\n",
              "      <td>124.702128</td>\n",
              "      <td>257.024570</td>\n",
              "      <td>10.731731</td>\n",
              "      <td>3.024272</td>\n",
              "    </tr>\n",
              "    <tr>\n",
              "      <th>std</th>\n",
              "      <td>1104.672992</td>\n",
              "      <td>3815.845055</td>\n",
              "      <td>4.407506</td>\n",
              "      <td>231.944545</td>\n",
              "      <td>0.424972</td>\n",
              "      <td>85.613920</td>\n",
              "      <td>2140.388824</td>\n",
              "      <td>56.699525</td>\n",
              "      <td>65.148639</td>\n",
              "      <td>98.325585</td>\n",
              "      <td>1.022000</td>\n",
              "      <td>0.882042</td>\n",
              "    </tr>\n",
              "    <tr>\n",
              "      <th>min</th>\n",
              "      <td>41.000000</td>\n",
              "      <td>9598.000000</td>\n",
              "      <td>0.300000</td>\n",
              "      <td>120.000000</td>\n",
              "      <td>1.960000</td>\n",
              "      <td>4.000000</td>\n",
              "      <td>289.000000</td>\n",
              "      <td>26.350000</td>\n",
              "      <td>33.000000</td>\n",
              "      <td>62.000000</td>\n",
              "      <td>9.000000</td>\n",
              "      <td>1.000000</td>\n",
              "    </tr>\n",
              "    <tr>\n",
              "      <th>25%</th>\n",
              "      <td>1092.750000</td>\n",
              "      <td>15644.500000</td>\n",
              "      <td>0.800000</td>\n",
              "      <td>249.500000</td>\n",
              "      <td>3.242500</td>\n",
              "      <td>41.250000</td>\n",
              "      <td>871.500000</td>\n",
              "      <td>80.600000</td>\n",
              "      <td>84.250000</td>\n",
              "      <td>188.500000</td>\n",
              "      <td>10.000000</td>\n",
              "      <td>2.000000</td>\n",
              "    </tr>\n",
              "    <tr>\n",
              "      <th>50%</th>\n",
              "      <td>1730.000000</td>\n",
              "      <td>18628.000000</td>\n",
              "      <td>1.400000</td>\n",
              "      <td>309.500000</td>\n",
              "      <td>3.530000</td>\n",
              "      <td>73.000000</td>\n",
              "      <td>1259.000000</td>\n",
              "      <td>114.700000</td>\n",
              "      <td>108.000000</td>\n",
              "      <td>251.000000</td>\n",
              "      <td>10.600000</td>\n",
              "      <td>3.000000</td>\n",
              "    </tr>\n",
              "    <tr>\n",
              "      <th>75%</th>\n",
              "      <td>2613.500000</td>\n",
              "      <td>21272.500000</td>\n",
              "      <td>3.400000</td>\n",
              "      <td>400.000000</td>\n",
              "      <td>3.770000</td>\n",
              "      <td>123.000000</td>\n",
              "      <td>1980.000000</td>\n",
              "      <td>151.900000</td>\n",
              "      <td>151.000000</td>\n",
              "      <td>318.000000</td>\n",
              "      <td>11.100000</td>\n",
              "      <td>4.000000</td>\n",
              "    </tr>\n",
              "    <tr>\n",
              "      <th>max</th>\n",
              "      <td>4795.000000</td>\n",
              "      <td>28650.000000</td>\n",
              "      <td>28.000000</td>\n",
              "      <td>1775.000000</td>\n",
              "      <td>4.640000</td>\n",
              "      <td>588.000000</td>\n",
              "      <td>13862.400000</td>\n",
              "      <td>457.250000</td>\n",
              "      <td>598.000000</td>\n",
              "      <td>721.000000</td>\n",
              "      <td>18.000000</td>\n",
              "      <td>4.000000</td>\n",
              "    </tr>\n",
              "  </tbody>\n",
              "</table>\n",
              "</div>"
            ],
            "text/plain": [
              "            N_Days           Age   Bilirubin  Cholesterol     Albumin  \\\n",
              "count   418.000000    418.000000  418.000000   284.000000  418.000000   \n",
              "mean   1917.782297  18533.351675    3.220813   369.510563    3.497440   \n",
              "std    1104.672992   3815.845055    4.407506   231.944545    0.424972   \n",
              "min      41.000000   9598.000000    0.300000   120.000000    1.960000   \n",
              "25%    1092.750000  15644.500000    0.800000   249.500000    3.242500   \n",
              "50%    1730.000000  18628.000000    1.400000   309.500000    3.530000   \n",
              "75%    2613.500000  21272.500000    3.400000   400.000000    3.770000   \n",
              "max    4795.000000  28650.000000   28.000000  1775.000000    4.640000   \n",
              "\n",
              "           Copper      Alk_Phos        SGOT  Tryglicerides   Platelets  \\\n",
              "count  310.000000    312.000000  312.000000     282.000000  407.000000   \n",
              "mean    97.648387   1982.655769  122.556346     124.702128  257.024570   \n",
              "std     85.613920   2140.388824   56.699525      65.148639   98.325585   \n",
              "min      4.000000    289.000000   26.350000      33.000000   62.000000   \n",
              "25%     41.250000    871.500000   80.600000      84.250000  188.500000   \n",
              "50%     73.000000   1259.000000  114.700000     108.000000  251.000000   \n",
              "75%    123.000000   1980.000000  151.900000     151.000000  318.000000   \n",
              "max    588.000000  13862.400000  457.250000     598.000000  721.000000   \n",
              "\n",
              "       Prothrombin       Stage  \n",
              "count   416.000000  412.000000  \n",
              "mean     10.731731    3.024272  \n",
              "std       1.022000    0.882042  \n",
              "min       9.000000    1.000000  \n",
              "25%      10.000000    2.000000  \n",
              "50%      10.600000    3.000000  \n",
              "75%      11.100000    4.000000  \n",
              "max      18.000000    4.000000  "
            ]
          },
          "execution_count": 35,
          "metadata": {},
          "output_type": "execute_result"
        }
      ],
      "source": [
        "data.drop(columns=['ID']).describe()"
      ]
    },
    {
      "cell_type": "markdown",
      "metadata": {
        "id": "j8wvSsiqZwED"
      },
      "source": [
        "Cek Missing Value :"
      ]
    },
    {
      "cell_type": "code",
      "execution_count": 36,
      "metadata": {
        "colab": {
          "base_uri": "https://localhost:8080/",
          "height": 460
        },
        "id": "CXz2r_ylZ4QG",
        "outputId": "4ca80918-523c-49bf-a2f7-8d1ff3f06b1e"
      },
      "outputs": [
        {
          "data": {
            "text/plain": [
              "Drug             106\n",
              "Ascites          106\n",
              "Hepatomegaly     106\n",
              "Spiders          106\n",
              "Cholesterol      134\n",
              "Copper           108\n",
              "Alk_Phos         106\n",
              "SGOT             106\n",
              "Tryglicerides    136\n",
              "Platelets         11\n",
              "Prothrombin        2\n",
              "Stage              6\n",
              "dtype: int64"
            ]
          },
          "execution_count": 36,
          "metadata": {},
          "output_type": "execute_result"
        }
      ],
      "source": [
        "data.isnull().sum()[data.isnull().sum() > 0]"
      ]
    },
    {
      "cell_type": "markdown",
      "metadata": {
        "id": "GBFAZHfDjoLJ"
      },
      "source": [
        "Struktur Data Kolom :"
      ]
    },
    {
      "cell_type": "code",
      "execution_count": 37,
      "metadata": {
        "colab": {
          "base_uri": "https://localhost:8080/"
        },
        "id": "SIHGVKjBjizp",
        "outputId": "846b14cc-3556-4fbc-adb1-f5e90a017762"
      },
      "outputs": [
        {
          "name": "stdout",
          "output_type": "stream",
          "text": [
            "\n",
            "=== Informasi Dataset ===\n",
            "<class 'pandas.core.frame.DataFrame'>\n",
            "RangeIndex: 418 entries, 0 to 417\n",
            "Data columns (total 20 columns):\n",
            " #   Column         Non-Null Count  Dtype  \n",
            "---  ------         --------------  -----  \n",
            " 0   ID             418 non-null    int64  \n",
            " 1   N_Days         418 non-null    int64  \n",
            " 2   Status         418 non-null    object \n",
            " 3   Drug           312 non-null    object \n",
            " 4   Age            418 non-null    int64  \n",
            " 5   Sex            418 non-null    object \n",
            " 6   Ascites        312 non-null    object \n",
            " 7   Hepatomegaly   312 non-null    object \n",
            " 8   Spiders        312 non-null    object \n",
            " 9   Edema          418 non-null    object \n",
            " 10  Bilirubin      418 non-null    float64\n",
            " 11  Cholesterol    284 non-null    float64\n",
            " 12  Albumin        418 non-null    float64\n",
            " 13  Copper         310 non-null    float64\n",
            " 14  Alk_Phos       312 non-null    float64\n",
            " 15  SGOT           312 non-null    float64\n",
            " 16  Tryglicerides  282 non-null    float64\n",
            " 17  Platelets      407 non-null    float64\n",
            " 18  Prothrombin    416 non-null    float64\n",
            " 19  Stage          412 non-null    float64\n",
            "dtypes: float64(10), int64(3), object(7)\n",
            "memory usage: 65.4+ KB\n",
            "None\n"
          ]
        }
      ],
      "source": [
        "print(\"\\n=== Informasi Dataset ===\")\n",
        "print(data.info())"
      ]
    },
    {
      "cell_type": "markdown",
      "metadata": {
        "id": "wqm2ZgHkafhE"
      },
      "source": [
        "Visualisasi Distribusi Kelas :"
      ]
    },
    {
      "cell_type": "code",
      "execution_count": 38,
      "metadata": {
        "colab": {
          "base_uri": "https://localhost:8080/",
          "height": 608
        },
        "id": "0283I3INguzp",
        "outputId": "8b23e1d1-f278-4cc2-d08b-8a20791a7494"
      },
      "outputs": [
        {
          "data": {
            "image/png": "[encoded data removed]",
            "text/plain": [
              "<Figure size 800x500 with 1 Axes>"
            ]
          },
          "metadata": {},
          "output_type": "display_data"
        },
        {
          "name": "stdout",
          "output_type": "stream",
          "text": [
            "\n",
            "=== Distribusi Kelas (Status) ===\n",
            "Status\n",
            "C     232\n",
            "D     161\n",
            "CL     25\n",
            "Name: count, dtype: int64\n"
          ]
        }
      ],
      "source": [
        "plt.figure(figsize=(8, 5))\n",
        "sns.countplot(x='Status', data=data)\n",
        "plt.title(\"Distribusi Kelas Target (Status)\")\n",
        "plt.show()\n",
        "\n",
        "print(\"\\n=== Distribusi Kelas (Status) ===\")\n",
        "print(data['Status'].value_counts())"
      ]
    },
    {
      "cell_type": "markdown",
      "metadata": {
        "id": "9czrq-oPkISm"
      },
      "source": [
        "**Penjelasan:**\n",
        "\n",
        "- Dataset mengandung 418 baris dan 20 kolom\n",
        "\n",
        "- Variabel target: Status (D, C, CL)\n",
        "\n",
        "- Terdapat missing values di beberapa kolom numerik\n",
        "\n",
        "- Kelas tidak seimbang (C > D > CL)"
      ]
    },
    {
      "cell_type": "markdown",
      "metadata": {
        "id": "3vOM0-spjyWz"
      },
      "source": [
        "## Preprocessing Data"
      ]
    },
    {
      "cell_type": "code",
      "execution_count": 39,
      "metadata": {
        "colab": {
          "base_uri": "https://localhost:8080/",
          "height": 261
        },
        "id": "aNNOGdPKj_SW",
        "outputId": "e18ec269-8a7d-48d8-efe6-3bb9be134fe2"
      },
      "outputs": [
        {
          "name": "stdout",
          "output_type": "stream",
          "text": [
            "\n",
            "=== Data Setelah Preprocessing ===\n"
          ]
        },
        {
          "data": {
            "text/html": [
              "<div>\n",
              "<style scoped>\n",
              "    .dataframe tbody tr th:only-of-type {\n",
              "        vertical-align: middle;\n",
              "    }\n",
              "\n",
              "    .dataframe tbody tr th {\n",
              "        vertical-align: top;\n",
              "    }\n",
              "\n",
              "    .dataframe thead th {\n",
              "        text-align: right;\n",
              "    }\n",
              "</style>\n",
              "<table border=\"1\" class=\"dataframe\">\n",
              "  <thead>\n",
              "    <tr style=\"text-align: right;\">\n",
              "      <th></th>\n",
              "      <th>N_Days</th>\n",
              "      <th>Status</th>\n",
              "      <th>Drug</th>\n",
              "      <th>Age</th>\n",
              "      <th>Sex</th>\n",
              "      <th>Ascites</th>\n",
              "      <th>Hepatomegaly</th>\n",
              "      <th>Spiders</th>\n",
              "      <th>Edema</th>\n",
              "      <th>Bilirubin</th>\n",
              "      <th>Cholesterol</th>\n",
              "      <th>Albumin</th>\n",
              "      <th>Copper</th>\n",
              "      <th>Alk_Phos</th>\n",
              "      <th>SGOT</th>\n",
              "      <th>Tryglicerides</th>\n",
              "      <th>Platelets</th>\n",
              "      <th>Prothrombin</th>\n",
              "      <th>Stage</th>\n",
              "    </tr>\n",
              "  </thead>\n",
              "  <tbody>\n",
              "    <tr>\n",
              "      <th>0</th>\n",
              "      <td>400</td>\n",
              "      <td>D</td>\n",
              "      <td>0</td>\n",
              "      <td>58.765229</td>\n",
              "      <td>0</td>\n",
              "      <td>1</td>\n",
              "      <td>1</td>\n",
              "      <td>1</td>\n",
              "      <td>2</td>\n",
              "      <td>14.5</td>\n",
              "      <td>261.0</td>\n",
              "      <td>2.60</td>\n",
              "      <td>156.0</td>\n",
              "      <td>1718.0</td>\n",
              "      <td>137.95</td>\n",
              "      <td>172.0</td>\n",
              "      <td>190.0</td>\n",
              "      <td>12.2</td>\n",
              "      <td>3</td>\n",
              "    </tr>\n",
              "    <tr>\n",
              "      <th>1</th>\n",
              "      <td>4500</td>\n",
              "      <td>C</td>\n",
              "      <td>0</td>\n",
              "      <td>56.446270</td>\n",
              "      <td>0</td>\n",
              "      <td>0</td>\n",
              "      <td>1</td>\n",
              "      <td>1</td>\n",
              "      <td>0</td>\n",
              "      <td>1.1</td>\n",
              "      <td>302.0</td>\n",
              "      <td>4.14</td>\n",
              "      <td>54.0</td>\n",
              "      <td>7394.8</td>\n",
              "      <td>113.52</td>\n",
              "      <td>88.0</td>\n",
              "      <td>221.0</td>\n",
              "      <td>10.6</td>\n",
              "      <td>2</td>\n",
              "    </tr>\n",
              "    <tr>\n",
              "      <th>2</th>\n",
              "      <td>1012</td>\n",
              "      <td>D</td>\n",
              "      <td>0</td>\n",
              "      <td>70.072553</td>\n",
              "      <td>1</td>\n",
              "      <td>0</td>\n",
              "      <td>0</td>\n",
              "      <td>0</td>\n",
              "      <td>1</td>\n",
              "      <td>1.4</td>\n",
              "      <td>176.0</td>\n",
              "      <td>3.48</td>\n",
              "      <td>210.0</td>\n",
              "      <td>516.0</td>\n",
              "      <td>96.10</td>\n",
              "      <td>55.0</td>\n",
              "      <td>151.0</td>\n",
              "      <td>12.0</td>\n",
              "      <td>3</td>\n",
              "    </tr>\n",
              "    <tr>\n",
              "      <th>3</th>\n",
              "      <td>1925</td>\n",
              "      <td>D</td>\n",
              "      <td>0</td>\n",
              "      <td>54.740589</td>\n",
              "      <td>0</td>\n",
              "      <td>0</td>\n",
              "      <td>1</td>\n",
              "      <td>1</td>\n",
              "      <td>1</td>\n",
              "      <td>1.8</td>\n",
              "      <td>244.0</td>\n",
              "      <td>2.54</td>\n",
              "      <td>64.0</td>\n",
              "      <td>6121.8</td>\n",
              "      <td>60.63</td>\n",
              "      <td>92.0</td>\n",
              "      <td>183.0</td>\n",
              "      <td>10.3</td>\n",
              "      <td>3</td>\n",
              "    </tr>\n",
              "    <tr>\n",
              "      <th>4</th>\n",
              "      <td>1504</td>\n",
              "      <td>CL</td>\n",
              "      <td>1</td>\n",
              "      <td>38.105407</td>\n",
              "      <td>0</td>\n",
              "      <td>0</td>\n",
              "      <td>1</td>\n",
              "      <td>1</td>\n",
              "      <td>0</td>\n",
              "      <td>3.4</td>\n",
              "      <td>279.0</td>\n",
              "      <td>3.53</td>\n",
              "      <td>143.0</td>\n",
              "      <td>671.0</td>\n",
              "      <td>113.15</td>\n",
              "      <td>72.0</td>\n",
              "      <td>136.0</td>\n",
              "      <td>10.9</td>\n",
              "      <td>2</td>\n",
              "    </tr>\n",
              "  </tbody>\n",
              "</table>\n",
              "</div>"
            ],
            "text/plain": [
              "   N_Days Status  Drug        Age  Sex  Ascites  Hepatomegaly  Spiders  Edema  \\\n",
              "0     400      D     0  58.765229    0        1             1        1      2   \n",
              "1    4500      C     0  56.446270    0        0             1        1      0   \n",
              "2    1012      D     0  70.072553    1        0             0        0      1   \n",
              "3    1925      D     0  54.740589    0        0             1        1      1   \n",
              "4    1504     CL     1  38.105407    0        0             1        1      0   \n",
              "\n",
              "   Bilirubin  Cholesterol  Albumin  Copper  Alk_Phos    SGOT  Tryglicerides  \\\n",
              "0       14.5        261.0     2.60   156.0    1718.0  137.95          172.0   \n",
              "1        1.1        302.0     4.14    54.0    7394.8  113.52           88.0   \n",
              "2        1.4        176.0     3.48   210.0     516.0   96.10           55.0   \n",
              "3        1.8        244.0     2.54    64.0    6121.8   60.63           92.0   \n",
              "4        3.4        279.0     3.53   143.0     671.0  113.15           72.0   \n",
              "\n",
              "   Platelets  Prothrombin  Stage  \n",
              "0      190.0         12.2      3  \n",
              "1      221.0         10.6      2  \n",
              "2      151.0         12.0      3  \n",
              "3      183.0         10.3      3  \n",
              "4      136.0         10.9      2  "
            ]
          },
          "metadata": {},
          "output_type": "display_data"
        }
      ],
      "source": [
        "# Fungsi preprocessing\n",
        "from sklearn.preprocessing import LabelEncoder\n",
        "import pandas as pd\n",
        "\n",
        "def preprocess_data(df):\n",
        "    # 1. Konversi usia dari hari ke tahun\n",
        "    df['Age'] = df['Age'] / 365.25\n",
        "\n",
        "    # 2. Handle missing values:\n",
        "    # Numerik -> isi dengan median\n",
        "    num_cols = ['Bilirubin', 'Cholesterol', 'Albumin', 'Copper',\n",
        "                'Alk_Phos', 'SGOT', 'Tryglicerides', 'Platelets', 'Prothrombin']\n",
        "    for col in num_cols:\n",
        "        df[col] = pd.to_numeric(df[col], errors='coerce')\n",
        "        df[col] = df[col].fillna(df[col].median())\n",
        "\n",
        "    # Kategorikal -> isi dengan modus\n",
        "    cat_cols = ['Drug', 'Sex', 'Ascites', 'Hepatomegaly', 'Spiders', 'Edema', 'Stage']\n",
        "    for col in cat_cols:\n",
        "        df[col] = df[col].fillna(df[col].mode()[0])\n",
        "\n",
        "    # 3. Encoding variabel kategorikal\n",
        "    le = LabelEncoder()\n",
        "    for col in cat_cols:\n",
        "        df[col] = le.fit_transform(df[col].astype(str))\n",
        "\n",
        "    # 4. Drop kolom ID yang tidak diperlukan\n",
        "    df = df.drop('ID', axis=1)\n",
        "\n",
        "    return df\n",
        "\n",
        "\n",
        "# Eksekusi preprocessing\n",
        "processed_data = preprocess_data(data.copy())\n",
        "\n",
        "# Cek hasil preprocessing\n",
        "print(\"\\n=== Data Setelah Preprocessing ===\")\n",
        "display(processed_data.head())"
      ]
    },
    {
      "cell_type": "markdown",
      "metadata": {
        "id": "UYN6T32Xkoog"
      },
      "source": [
        "**Penjelasan:**\n",
        "\n",
        "- Pembagian data dengan stratifikasi untuk menjaga distribusi kelas\n",
        "\n",
        "- Standarisasi penting untuk KNN karena berbasis jarak"
      ]
    },
    {
      "cell_type": "markdown",
      "metadata": {
        "id": "hOw31NsCl2-k"
      },
      "source": [
        "### Persiapan Untuk Modeling\n"
      ]
    },
    {
      "cell_type": "code",
      "execution_count": 40,
      "metadata": {
        "colab": {
          "base_uri": "https://localhost:8080/"
        },
        "id": "ryWRRvprl2um",
        "outputId": "d52c2431-035d-4f4f-8d65-38ae4292ce1b"
      },
      "outputs": [
        {
          "name": "stdout",
          "output_type": "stream",
          "text": [
            "\n",
            "=== Dimensi Data ===\n",
            "Train set: (292, 18)\n",
            "Test set: (126, 18)\n"
          ]
        }
      ],
      "source": [
        "# Pisahkan fitur (X) dan target (y)\n",
        "X = processed_data.drop('Status', axis=1)\n",
        "y = processed_data['Status']\n",
        "\n",
        "# Split data train (70%) dan test (30%)\n",
        "X_train, X_test, y_train, y_test = train_test_split(\n",
        "    X, y,\n",
        "    test_size=0.3,\n",
        "    random_state=42,\n",
        "    stratify=y  # Pertahankan distribusi kelas\n",
        ")\n",
        "\n",
        "# Standardisasi fitur (penting untuk KNN)\n",
        "scaler = StandardScaler()\n",
        "X_train_scaled = scaler.fit_transform(X_train)\n",
        "X_test_scaled = scaler.transform(X_test)\n",
        "\n",
        "print(\"\\n=== Dimensi Data ===\")\n",
        "print(f\"Train set: {X_train_scaled.shape}\")\n",
        "print(f\"Test set: {X_test_scaled.shape}\")"
      ]
    },
    {
      "cell_type": "markdown",
      "metadata": {
        "id": "UZiu4tUikvhj"
      },
      "source": [
        "## Pemodelan Dengan KNN"
      ]
    },
    {
      "cell_type": "code",
      "execution_count": 41,
      "metadata": {
        "colab": {
          "base_uri": "https://localhost:8080/"
        },
        "id": "zPBX1rc2j1ef",
        "outputId": "2028cf60-4193-4926-9680-517a4f38b535"
      },
      "outputs": [
        {
          "name": "stdout",
          "output_type": "stream",
          "text": [
            "=== Evaluasi Awal KNN ===\n",
            "Accuracy: 0.6428571428571429\n"
          ]
        }
      ],
      "source": [
        "# Inisialisasi model KNN\n",
        "knn = KNeighborsClassifier(\n",
        "    n_neighbors=5,  # Jumlah tetangga\n",
        "    weights='uniform',  # Bobot uniform/distance\n",
        "    metric='euclidean'  # Metrik jarak\n",
        ")\n",
        "\n",
        "# Training model\n",
        "knn.fit(X_train_scaled, y_train)\n",
        "\n",
        "# Prediksi\n",
        "y_pred = knn.predict(X_test_scaled)\n",
        "\n",
        "# Evaluasi awal\n",
        "print(\"=== Evaluasi Awal KNN ===\")\n",
        "print(\"Accuracy:\", accuracy_score(y_test, y_pred))"
      ]
    },
    {
      "cell_type": "markdown",
      "metadata": {
        "id": "hcTUkiRpm3-P"
      },
      "source": [
        "**Penjelasan:**\n",
        "\n",
        "- Model dasar dengan parameter default\n",
        "\n",
        "- Akurasi awal sebagai baseline"
      ]
    },
    {
      "cell_type": "markdown",
      "metadata": {
        "id": "Aej8IMqSm7Z_"
      },
      "source": [
        "### Optimasi Hyperparameter dengan GridSearch"
      ]
    },
    {
      "cell_type": "code",
      "execution_count": null,
      "metadata": {
        "colab": {
          "base_uri": "https://localhost:8080/"
        },
        "id": "ffT5vRHCmk5S",
        "outputId": "aed9b3a8-b980-44b8-f7e5-7be712c3ea7d"
      },
      "outputs": [
        {
          "name": "stdout",
          "output_type": "stream",
          "text": [
            "Classification Report:\n",
            "              precision    recall  f1-score   support\n",
            "\n",
            "           C       0.65      0.86      0.74        70\n",
            "          CL       0.00      0.00      0.00         8\n",
            "           D       0.65      0.42      0.51        48\n",
            "\n",
            "    accuracy                           0.63       126\n",
            "   macro avg       0.43      0.42      0.42       126\n",
            "weighted avg       0.61      0.63      0.60       126\n",
            "\n"
          ]
        }
      ],
      "source": [
        "# 1. Encode target variable\n",
        "le = LabelEncoder()\n",
        "y_encoded = le.fit_transform(y)\n",
        "\n",
        "# 2. Split data (gunakan y_encoded)\n",
        "X_train, X_test, y_train_encoded, y_test_encoded = train_test_split(\n",
        "    X, y_encoded, test_size=0.3, random_state=42, stratify=y_encoded\n",
        ")\n",
        "\n",
        "# 3. Grid Search dengan encoded labels\n",
        "param_grid = {\n",
        "    'n_neighbors': range(3, 15),\n",
        "    'weights': ['uniform', 'distance'],\n",
        "    'metric': ['euclidean', 'manhattan']\n",
        "}\n",
        "\n",
        "grid_search = GridSearchCV(\n",
        "    KNeighborsClassifier(),\n",
        "    param_grid,\n",
        "    cv=5,\n",
        "    scoring='accuracy',\n",
        "    n_jobs=-1\n",
        ")\n",
        "\n",
        "grid_search.fit(X_train_scaled, y_train_encoded)\n",
        "\n",
        "# 4. Evaluasi dengan mapping kembali ke label asli\n",
        "best_knn = grid_search.best_estimator_\n",
        "y_pred_encoded = best_knn.predict(X_test_scaled)\n",
        "y_pred = le.inverse_transform(y_pred_encoded)\n",
        "\n",
        "print(\"Classification Report:\")\n",
        "# Gunakan y_test asli untuk interpretasi\n",
        "print(classification_report(y_test, y_pred))"
      ]
    },
    {
      "cell_type": "markdown",
      "metadata": {
        "id": "jANwZwKxnBUj"
      },
      "source": [
        "## Eveluasi Model"
      ]
    },
    {
      "cell_type": "code",
      "execution_count": 53,
      "metadata": {
        "colab": {
          "base_uri": "https://localhost:8080/"
        },
        "id": "9wj-O1kqnDsR",
        "outputId": "e8f7bcb2-dbaa-4e7a-b6bc-e08101c0a271"
      },
      "outputs": [
        {
          "name": "stdout",
          "output_type": "stream",
          "text": [
            "\n",
            "=== Classification Report ===\n",
            "              precision    recall  f1-score   support\n",
            "\n",
            "           C       0.65      0.86      0.74        70\n",
            "          CL       0.00      0.00      0.00         8\n",
            "           D       0.65      0.42      0.51        48\n",
            "\n",
            "    accuracy                           0.63       126\n",
            "   macro avg       0.43      0.42      0.42       126\n",
            "weighted avg       0.61      0.63      0.60       126\n",
            "\n",
            "\n",
            "=== Confusion Matrix ===\n",
            "[[60  1  9]\n",
            " [ 6  0  2]\n",
            " [26  2 20]]\n",
            "\n",
            "=== Cross-Validation Scores ===\n",
            "Scores: [0.72881356 0.76271186 0.67241379 0.82758621 0.72413793]\n",
            "Mean Accuracy: 0.7431\n"
          ]
        }
      ],
      "source": [
        "# Convert predicted labels back to original string labels\n",
        "y_pred_best_original = le.inverse_transform(y_pred_encoded)\n",
        "\n",
        "# Classification report\n",
        "print(\"\\n=== Classification Report ===\")\n",
        "print(classification_report(y_test, y_pred_best_original))\n",
        "\n",
        "# Confusion matrix\n",
        "print(\"\\n=== Confusion Matrix ===\")\n",
        "print(confusion_matrix(y_test, y_pred_best_original))\n",
        "\n",
        "# Cross-validation score\n",
        "cv_scores = cross_val_score(best_knn, X_train_scaled, y_train_encoded, cv=5)\n",
        "print(\"\\n=== Cross-Validation Scores ===\")\n",
        "print(f\"Scores: {cv_scores}\")\n",
        "print(f\"Mean Accuracy: {np.mean(cv_scores):.4f}\")"
      ]
    },
    {
      "cell_type": "markdown",
      "metadata": {
        "id": "j2NWENPsnIL3"
      },
      "source": [
        "## Visualisasi Hasil"
      ]
    },
    {
      "cell_type": "code",
      "execution_count": 55,
      "metadata": {
        "colab": {
          "base_uri": "https://localhost:8080/",
          "height": 1000
        },
        "id": "r73Uc9XLnKjd",
        "outputId": "fad0e566-21f2-437d-9441-1b8c9d56a077"
      },
      "outputs": [
        {
          "data": {
            "image/png": "[encoded data removed]",
            "text/plain": [
              "<Figure size 1000x600 with 1 Axes>"
            ]
          },
          "metadata": {},
          "output_type": "display_data"
        },
        {
          "data": {
            "image/png": "[encoded data removed]",
            "text/plain": [
              "<Figure size 800x600 with 2 Axes>"
            ]
          },
          "metadata": {},
          "output_type": "display_data"
        }
      ],
      "source": [
        "# Plot feature importance (berdasarkan variance)\n",
        "feature_importance = pd.DataFrame({\n",
        "    'Feature': X.columns,\n",
        "    'Variance': np.var(X_train_scaled, axis=0)\n",
        "}).sort_values('Variance', ascending=False)\n",
        "\n",
        "plt.figure(figsize=(10,6))\n",
        "sns.barplot(x='Variance', y='Feature', data=feature_importance)\n",
        "plt.title('Feature Importance (Berdasarkan Variance)')\n",
        "plt.show()\n",
        "\n",
        "# Plot confusion matrix\n",
        "plt.figure(figsize=(8,6))\n",
        "sns.heatmap(confusion_matrix(y_test, y_pred_best_original),\n",
        "            annot=True, fmt='d', cmap='Blues')\n",
        "plt.title('Confusion Matrix')\n",
        "plt.xlabel('Predicted')\n",
        "plt.ylabel('Actual')\n",
        "plt.show()"
      ]
    },
    {
      "cell_type": "markdown",
      "metadata": {
        "id": "-RNjOYf9n0Bb"
      },
      "source": [
        "### Kesimpulan"
      ]
    },
    {
      "cell_type": "markdown",
      "metadata": {
        "id": "OM933Lutm0PH"
      },
      "source": [
        "**Model Terbaik: KNN dengan parameter:**\n",
        "\n",
        "- n_neighbors: [nilai optimal]\n",
        "\n",
        "- weights: [uniform/distance]\n",
        "\n",
        "- metric: [euclidean/manhattan]\n",
        "\n",
        "**Performansi:**\n",
        "\n",
        "- Akurasi: ~64-75%\n",
        "\n",
        "- Kelas C memiliki recall tinggi (86%)\n",
        "\n",
        "- Kelas minoritas (D dan CL) perlu penanganan khusus"
      ]
    },
    {
      "cell_type": "code",
      "execution_count": null,
      "metadata": {
        "id": "zcjxOfjinxRn"
      },
      "outputs": [],
      "source": []
    }
  ],
  "metadata": {
    "colab": {
      "provenance": []
    },
    "kernelspec": {
      "display_name": ".venv",
      "language": "python",
      "name": "python3"
    },
    "language_info": {
      "codemirror_mode": {
        "name": "ipython",
        "version": 3
      },
      "file_extension": ".py",
      "mimetype": "text/x-python",
      "name": "python",
      "nbconvert_exporter": "python",
      "pygments_lexer": "ipython3",
      "version": "3.13.2"
    }
  },
  "nbformat": 4,
  "nbformat_minor": 0
}
