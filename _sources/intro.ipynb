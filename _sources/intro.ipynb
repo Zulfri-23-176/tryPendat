{
  "cells": [
    {
      "cell_type": "markdown",
      "metadata": {
        "id": "dznOOZ7g5iyf"
      },
      "source": [
        "# Intro\n",
        "\n",
        "Halo selamat datang pada halaman saya.\n",
        "\n",
        "Halaman ini saya buat untuk mencatat materi ataupun tugas dari mata kuliah penambangan data untuk 1 semester kedepan\n",
        "\n",
        "Semoga materi pada mata kuliah ini bisa saya serap dengan baik dan jangan lupa stay ileng lan waspodo."
      ]
    }
  ],
  "metadata": {
    "colab": {
      "provenance": []
    },
    "kernelspec": {
      "display_name": "Python 3",
      "name": "python3"
    },
    "language_info": {
      "name": "python"
    }
  },
  "nbformat": 4,
  "nbformat_minor": 0
}
