{
  "cells": [
    {
      "cell_type": "markdown",
      "metadata": {
        "id": "dznOOZ7g5iyf"
      },
      "source": [
        "# About Me\n",
        "\n",
        "Halo saya seorang mahasiswa Teknik Informatika semester 4.\n",
        "\n",
        "Sebelumnya izinkan saya mengenalkan diri :\n",
        "\n",
        "Nama  : Muhammad Zulfri Choiril Anwar\n",
        "\n",
        "NIM   : 230411100176\n",
        "\n",
        "Prodi : Teknik Informatika\n",
        "\n",
        "Email : zulfrianwar@gmail.com\n",
        "<br><br>\n",
        "\n",
        "Salam Kenallll ^_^"
      ]
    },
    {
      "cell_type": "code",
      "execution_count": null,
      "metadata": {
        "id": "YcGpLZxM4fb7"
      },
      "outputs": [],
      "source": []
    }
  ],
  "metadata": {
    "colab": {
      "provenance": []
    },
    "kernelspec": {
      "display_name": "Python 3",
      "name": "python3"
    },
    "language_info": {
      "name": "python"
    }
  },
  "nbformat": 4,
  "nbformat_minor": 0
}
